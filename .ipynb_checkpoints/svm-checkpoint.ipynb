{
 "cells": [
  {
   "cell_type": "markdown",
   "metadata": {},
   "source": [
    "# CPE721 - Redes Neurais Feedforward"
   ]
  },
  {
   "cell_type": "code",
   "execution_count": 2,
   "metadata": {},
   "outputs": [],
   "source": [
    "import numpy as np\n",
    "from sklearn import svm\n",
    "from sklearn.model_selection import  KFold, GridSearchCV"
   ]
  },
  {
   "cell_type": "markdown",
   "metadata": {},
   "source": [
    "## 2. *Baseline*: SVM"
   ]
  },
  {
   "cell_type": "code",
   "execution_count": 4,
   "metadata": {},
   "outputs": [],
   "source": [
    "X = np.loadtxt('X.txt',delimiter=',')\n",
    "Y_cat = np.loadtxt('Y_cat.txt')"
   ]
  },
  {
   "cell_type": "code",
   "execution_count": 20,
   "metadata": {},
   "outputs": [],
   "source": [
    "C_range = np.arange(1,10.1,0.1)\n",
    "gamma_range = np.logspace(-5,1,7)\n",
    "param_grid = [dict(C=C_range, gamma=gamma_range)]\n",
    "\n",
    "# Parameters\n",
    "K =  10      # k-fold parameter\n",
    "\n",
    "# Cross-validation\n",
    "cv = KFold(n_splits=K)\n",
    "grid = GridSearchCV(svm.SVC(kernel='rbf',cache_size=1000), param_grid=param_grid, cv=cv, n_jobs=-1,verbose=1)\n",
    "grid.fit(X,y)"
   ]
  },
  {
   "cell_type": "code",
   "execution_count": 21,
   "metadata": {},
   "outputs": [],
   "source": [
    "best_std_score = grid.cv_results_['std_test_score'][grid.best_index_]\n",
    "\n",
    "# Results:\n",
    "print(\"Best parameters: %s \\nAccuracy: %0.3f \\u00B1 %0.3f\"\n",
    "      % (grid.best_params_, grid.best_score_, best_std_score))"
   ]
  }
 ],
 "metadata": {
  "kernelspec": {
   "display_name": "Python 3",
   "language": "python",
   "name": "python3"
  },
  "language_info": {
   "codemirror_mode": {
    "name": "ipython",
    "version": 3
   },
   "file_extension": ".py",
   "mimetype": "text/x-python",
   "name": "python",
   "nbconvert_exporter": "python",
   "pygments_lexer": "ipython3",
   "version": "3.7.6"
  }
 },
 "nbformat": 4,
 "nbformat_minor": 4
}
