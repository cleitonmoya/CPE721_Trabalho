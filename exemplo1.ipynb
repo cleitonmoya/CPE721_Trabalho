{
  "nbformat": 4,
  "nbformat_minor": 0,
  "metadata": {
    "colab": {
      "provenance": [],
      "collapsed_sections": [],
      "toc_visible": true,
      "authorship_tag": "ABX9TyPJPiNHa2OeMhBbIFM9Al2h",
      "include_colab_link": true
    },
    "kernelspec": {
      "name": "python3",
      "display_name": "Python 3"
    },
    "language_info": {
      "name": "python"
    }
  },
  "cells": [
    {
      "cell_type": "markdown",
      "metadata": {
        "id": "view-in-github",
        "colab_type": "text"
      },
      "source": [
        "<a href=\"https://colab.research.google.com/github/cleitonmoya/CPE721_Trabalho/blob/main/exemplo1.ipynb\" target=\"_parent\"><img src=\"https://colab.research.google.com/assets/colab-badge.svg\" alt=\"Open In Colab\"/></a>"
      ]
    },
    {
      "cell_type": "markdown",
      "source": [
        "# Exercícios de Classe 1"
      ],
      "metadata": {
        "id": "hy92dTBuums2"
      }
    },
    {
      "cell_type": "code",
      "execution_count": 552,
      "metadata": {
        "id": "6hWxvY-gAcK8"
      },
      "outputs": [],
      "source": [
        "import numpy as np\n",
        "from numpy import log\n",
        "import matplotlib.pyplot as plt\n",
        "from scipy.stats import binom, norm\n",
        "import seaborn as sns"
      ]
    },
    {
      "cell_type": "markdown",
      "source": [
        "## Exercício 1"
      ],
      "metadata": {
        "id": "qaeqBOjAAvI1"
      }
    },
    {
      "cell_type": "markdown",
      "source": [
        "### Notação e revisão de conceitos"
      ],
      "metadata": {
        "id": "Dw6pRPqe_ySU"
      }
    },
    {
      "cell_type": "markdown",
      "source": [
        "Para pardronizar a notação e também revisar alguns conceitos, vamos utilizar os mesmos termos normalmente utilizados em **testes de hipóteses**:"
      ],
      "metadata": {
        "id": "0oS_txOu9WFG"
      }
    },
    {
      "cell_type": "markdown",
      "source": [
        "* $\\mathcal{H}_0: F=0$\n",
        "  * Hipótese nula\n",
        "* $\\mathcal{H}_1: F=1$\n",
        "  * Hipótese alternativa\n",
        "* $\\mathbb{P}[R_i=1|F=0] = α$\n",
        "  * Taxa de falsos positivos (FPR)\n",
        "  * $α$: Erro to tipo I\n",
        "  * Probabilidade de rejeitar erroneamente a hipótese nula\n",
        "  * Nível de significância\n",
        "* $\\mathbb{P}[R_i=1|F=1] = 1-β$\n",
        "  * Taxa de verdadeiros positivos (TPR)\n",
        "  * Sensibilidade\n",
        "  * $β$: Erro do tipo II (FNR)\n",
        "  * Probabilidade de rejeitar corretamente a hipótese nula\n",
        "  * Potência do teste\n",
        "\n",
        "  "
      ],
      "metadata": {
        "id": "UxIAXoFx9ln3"
      }
    },
    {
      "cell_type": "markdown",
      "source": [
        "Vamos revisar também os conceitos de **inferência bayesiana**:"
      ],
      "metadata": {
        "id": "29SF8L2MGo_B"
      }
    },
    {
      "cell_type": "markdown",
      "source": [
        "* Na inferência bayesiana, definimos uma distribuição de probabilidade para cada variável aleatória.\n",
        "* Neste problema simples, estamos considerando que toda as v.a. são do tipo Bernoulli (binárias, discretas), então podemos escrever o Teorema de Bayes utilizando funções de probablidade massa (pmf):"
      ],
      "metadata": {
        "id": "HmcdOPj0ItTz"
      }
    },
    {
      "cell_type": "markdown",
      "source": [
        "\\begin{align}\n",
        "        p[F \\mid R_i] = \\frac{p[R_i \\mid F] \\times p[F]}{p[R_i]}\n",
        "    \\end{align}"
      ],
      "metadata": {
        "id": "n93Pu2y9Gw-k"
      }
    },
    {
      "cell_type": "markdown",
      "source": [
        "* $p[F]$: *Prior probability*\n",
        "* $p[R_i \\mid F]$: função de *likelihood* (não necessariamente é uma distribuição!)\n",
        "* $p[F \\mid R_i]$: *Posterior probability*\n",
        "* $p[R_i]$: Probabilidade do dado ponderada por todos valores possíveis da hipótese"
      ],
      "metadata": {
        "id": "LJ5b8qYPHMId"
      }
    },
    {
      "cell_type": "markdown",
      "source": [
        "Dados do problema:"
      ],
      "metadata": {
        "id": "GopKvijRuIJQ"
      }
    },
    {
      "cell_type": "code",
      "source": [
        "α = 0.1 # FPR\n",
        "β = 0.2 # 1-TPR\n",
        "π = 0.1"
      ],
      "metadata": {
        "id": "J0B9_Po_BAPW"
      },
      "execution_count": 553,
      "outputs": []
    },
    {
      "cell_type": "markdown",
      "source": [
        "### Item a)"
      ],
      "metadata": {
        "id": "l5BJsMX1tyqJ"
      }
    },
    {
      "cell_type": "markdown",
      "source": [
        "Para $N=1$:"
      ],
      "metadata": {
        "id": "7MN_CxT_DJdU"
      }
    },
    {
      "cell_type": "markdown",
      "source": [
        "* $\\mathbb{P}[R_1=1|F=1] = 1-\\beta$.\n",
        "* Observa-se que trata-se da definição de TPR."
      ],
      "metadata": {
        "id": "-rJUk_d3t5ek"
      }
    },
    {
      "cell_type": "code",
      "source": [
        "R_ = 1-β\n",
        "print(R_)"
      ],
      "metadata": {
        "colab": {
          "base_uri": "https://localhost:8080/",
          "height": 0
        },
        "id": "UQDDc2qFFviF",
        "outputId": "fdc419ab-39c0-4c50-8613-0dd24ed7de3b"
      },
      "execution_count": 554,
      "outputs": [
        {
          "output_type": "stream",
          "name": "stdout",
          "text": [
            "0.8\n"
          ]
        }
      ]
    },
    {
      "cell_type": "markdown",
      "source": [
        "Para $N=3$:"
      ],
      "metadata": {
        "id": "eQ9E9vvoDRA_"
      }
    },
    {
      "cell_type": "markdown",
      "source": [
        "* Utilizamos a premissa de que os resultados dos detectores são **condicionalmente independentes** em relação à falha:"
      ],
      "metadata": {
        "id": "ywQhxyl_ig4u"
      }
    },
    {
      "cell_type": "markdown",
      "source": [
        "\\begin{align}\n",
        "  \\mathbb{P}[R_1=1, R_2=1, R_3=1|F=1] = &\\mathbb{P}[R_1=1|F=1] \n",
        "    \\\\ &\\times \\mathbb{P}[R_2=1|F=1] \n",
        "    \\\\ &\\times \\mathbb{P}[R_3=1|F=1]\n",
        "\\end{align}"
      ],
      "metadata": {
        "id": "gar_pTarDXlE"
      }
    },
    {
      "cell_type": "markdown",
      "source": [
        "* Então:"
      ],
      "metadata": {
        "id": "fSFists5E3oQ"
      }
    },
    {
      "cell_type": "markdown",
      "source": [
        "\\begin{align}\n",
        "\\mathbb{P}[R_1=1, R_2=1, R_3=1|F=1]  = (1-\\beta)^3\n",
        "\\end{align}"
      ],
      "metadata": {
        "id": "OByToQBgE7CY"
      }
    },
    {
      "cell_type": "code",
      "source": [
        "R_ = (1-β)**3\n",
        "print(R_)"
      ],
      "metadata": {
        "colab": {
          "base_uri": "https://localhost:8080/",
          "height": 0
        },
        "id": "JGl3QuGBFRxn",
        "outputId": "71f47a96-97a4-492b-91c8-48a8bda6aa78"
      },
      "execution_count": 555,
      "outputs": [
        {
          "output_type": "stream",
          "name": "stdout",
          "text": [
            "0.5120000000000001\n"
          ]
        }
      ]
    },
    {
      "cell_type": "markdown",
      "source": [
        "### Item b)"
      ],
      "metadata": {
        "id": "Gk2Y5hExuMBE"
      }
    },
    {
      "cell_type": "markdown",
      "source": [
        "Para $N=1$:"
      ],
      "metadata": {
        "id": "t1mJP9t3i-ZW"
      }
    },
    {
      "cell_type": "markdown",
      "source": [
        "* $\\mathbb{P}[R_1=1|F=0] = \\alpha$.\n",
        "* Observa-se que trata-se da definição de FPR."
      ],
      "metadata": {
        "id": "_Mt9K3ZdjEXW"
      }
    },
    {
      "cell_type": "markdown",
      "source": [
        "Para $N=3$:"
      ],
      "metadata": {
        "id": "tNh-dBOIjTsh"
      }
    },
    {
      "cell_type": "markdown",
      "source": [
        "* Utilizamos a mesma premissa de que os resultados dos detectores são **condicionalmente independentes** em relação à falha;\n",
        "* Temos então:"
      ],
      "metadata": {
        "id": "zu1EOEtyjVom"
      }
    },
    {
      "cell_type": "markdown",
      "source": [
        "\\begin{align}\n",
        "\\mathbb{P}[R_1=1, R_2=1, R_3=1|F=0]  = \\alpha^3\n",
        "\\end{align}"
      ],
      "metadata": {
        "id": "4Ia3QhtKjbIa"
      }
    },
    {
      "cell_type": "code",
      "source": [
        "R_ = α**3\n",
        "print(R_)"
      ],
      "metadata": {
        "colab": {
          "base_uri": "https://localhost:8080/",
          "height": 0
        },
        "id": "Q-iM09nOjmjs",
        "outputId": "4f877820-e0ad-4655-8826-e136a0eb613e"
      },
      "execution_count": 556,
      "outputs": [
        {
          "output_type": "stream",
          "name": "stdout",
          "text": [
            "0.0010000000000000002\n"
          ]
        }
      ]
    },
    {
      "cell_type": "markdown",
      "source": [
        "### Item c)"
      ],
      "metadata": {
        "id": "LHqwc-SZuN7g"
      }
    },
    {
      "cell_type": "markdown",
      "source": [
        "Para calcular a probabilidade de falha à posteriori, utilizamos o Teorema de Bayes:"
      ],
      "metadata": {
        "id": "XkyWHc8BlGfq"
      }
    },
    {
      "cell_type": "markdown",
      "source": [
        "\\begin{align}\n",
        "  \\mathbb{P}[F = 1 \\mid R_1=1] = \\frac{\\mathbb{P}[R_1=1|F=1]\\times \\mathbb{P}[F=1]}{\\mathbb{P}[R_1=1]} \n",
        "\\end{align}"
      ],
      "metadata": {
        "id": "k-dyj5NGk_pi"
      }
    },
    {
      "cell_type": "markdown",
      "source": [
        "O denominador, probabilidade do dado, é determinado pela **Lei da Probabilidade Total**:"
      ],
      "metadata": {
        "id": "8WNDZfYYlOwe"
      }
    },
    {
      "cell_type": "markdown",
      "source": [
        "\\begin{align}\n",
        "  \\mathbb{P}[R_1] = &\\mathbb{P}[R_1=1 \\mid F=1]\\times \\mathbb{P}[F=1]  \\\\\n",
        "  &+ \\mathbb{P}[R_1=1\\mid F=0]\\times \\mathbb{P}[F=0] \n",
        "\\end{align}"
      ],
      "metadata": {
        "id": "R1pEAAf7ld_S"
      }
    },
    {
      "cell_type": "markdown",
      "source": [
        "Assim,"
      ],
      "metadata": {
        "id": "ttNSAltjlsGP"
      }
    },
    {
      "cell_type": "markdown",
      "source": [
        "\\begin{align}\n",
        "  \\mathbb{P}[F=1 \\mid R_1=1] = \\frac{\\pi (1-\\beta)}{\\pi(1-\\beta) + (1-\\pi)\\alpha} \\\\ \n",
        "\\end{align}"
      ],
      "metadata": {
        "id": "TBe28UL-lvKz"
      }
    },
    {
      "cell_type": "code",
      "source": [
        "R_ = π*(1-β)/(π*(1-β)+(1-π)*α)\n",
        "print(R_)"
      ],
      "metadata": {
        "colab": {
          "base_uri": "https://localhost:8080/",
          "height": 0
        },
        "id": "-eUa8GJXl9Kz",
        "outputId": "3589a481-8c29-426e-e8fb-57b510ef7d52"
      },
      "execution_count": 557,
      "outputs": [
        {
          "output_type": "stream",
          "name": "stdout",
          "text": [
            "0.47058823529411764\n"
          ]
        }
      ]
    },
    {
      "cell_type": "markdown",
      "source": [
        "### Item d)"
      ],
      "metadata": {
        "id": "eqGtSiY-uPyo"
      }
    },
    {
      "cell_type": "markdown",
      "source": [
        "Para melhorar a ligibilidade, à partir de agora vamos utilizar a notação  $R_i \\triangleq R_i=1$ e $\\bar{R_i} \\triangleq R_i=0$."
      ],
      "metadata": {
        "id": "OuynrcrRb7y_"
      }
    },
    {
      "cell_type": "markdown",
      "source": [
        "Queremos calcular a probabilidade a posteriori $\\mathbb{P}[F=1 \\mid R_1, R_2, R_3$]. Aplicando o Teorema de Bayes:"
      ],
      "metadata": {
        "id": "J9TA2bTfbBgn"
      }
    },
    {
      "cell_type": "markdown",
      "source": [
        "\\begin{align}\n",
        "  \\mathbb{P}[F = 1 \\mid R_1, R_2, R_3] = \\frac{\\mathbb{P}[R_1, R_2, R_3|F=1]\\times \\mathbb{P}[F=1]}{\\mathbb{P}[R_1, R_2, R_3]} \n",
        "\\end{align}"
      ],
      "metadata": {
        "id": "23QIhEzJbURH"
      }
    },
    {
      "cell_type": "markdown",
      "source": [
        "O denominador é determindo à partir da **Lei da Probabilidade Total**: "
      ],
      "metadata": {
        "id": "9R7127fEc1jE"
      }
    },
    {
      "cell_type": "markdown",
      "source": [
        "\\begin{align}\n",
        "  \\mathbb{P}[R_1, R_2, R_3] = &\\mathbb{P}[R_1, R_2, R_3 \\mid F=1]\\times \\mathbb{P}[F=1]  \\\\\n",
        "  &+ \\mathbb{P}[R_1, R_2, R_3\\mid F=0]\\times \\mathbb{P}[F=0] \n",
        "\\end{align}"
      ],
      "metadata": {
        "id": "dCn0tyDrdWxU"
      }
    },
    {
      "cell_type": "markdown",
      "source": [
        "Chegamos assim em:"
      ],
      "metadata": {
        "id": "gAZO4wfSlpdW"
      }
    },
    {
      "cell_type": "markdown",
      "source": [
        "\\begin{align}\n",
        "  \\mathbb{P}[F=1 \\mid R_1, R_2, R_3] = \\frac{\\pi (1-\\beta)^3}{\\pi(1-\\beta)^3 + (1-\\pi)\\alpha^3} \\\\ \n",
        "\\end{align}"
      ],
      "metadata": {
        "id": "Gr_yoLdefaG_"
      }
    },
    {
      "cell_type": "markdown",
      "source": [
        "Note que não podemos assumir a independência total das detectores, ou seja, não podemos assumir que $\\mathbb{P}[R_1, R_2, R_3] = \\mathbb{P}[R_1]\\times\\mathbb{P}[R_2]\\times\\mathbb{P}[R_3]$. Ao invés, devemos ponderar a probabilidae dos dados utilizando todos os valores possíveis da hipótese (neste caso $F=0$ e $F=1$) e assumir a independência condicional."
      ],
      "metadata": {
        "id": "y35dajCEguJI"
      }
    },
    {
      "cell_type": "code",
      "source": [
        "R_ = π*(1-β)**3/(π*(1-β)**3+(1-π)*α**3)\n",
        "print(R_)"
      ],
      "metadata": {
        "colab": {
          "base_uri": "https://localhost:8080/",
          "height": 0
        },
        "id": "TzxRtqXvjw7y",
        "outputId": "ec85dc16-42af-4cdc-dc62-7faee1ce51da"
      },
      "execution_count": 558,
      "outputs": [
        {
          "output_type": "stream",
          "name": "stdout",
          "text": [
            "0.9827255278310941\n"
          ]
        }
      ]
    },
    {
      "cell_type": "markdown",
      "source": [
        "### Item e)"
      ],
      "metadata": {
        "id": "Z-3O2rm0uUIJ"
      }
    },
    {
      "cell_type": "markdown",
      "source": [
        "Generalizando o resultado dos dois itens anteriores:"
      ],
      "metadata": {
        "id": "s1QquPfsmKx7"
      }
    },
    {
      "cell_type": "markdown",
      "source": [
        "\\begin{align}\n",
        "  \\mathbb{P}[F=1 \\mid R_1, \\ldots R_N] = \\frac{\\pi (1-\\beta)^N}{\\pi(1-\\beta)^N + (1-\\pi)\\alpha^N} \\\\ \n",
        "\\end{align}"
      ],
      "metadata": {
        "id": "7W_osbJzmep_"
      }
    },
    {
      "cell_type": "markdown",
      "source": [
        "### Item f)"
      ],
      "metadata": {
        "id": "y7hIyn1YAyVa"
      }
    },
    {
      "cell_type": "markdown",
      "source": [
        "#### Decisão pela Likelihood"
      ],
      "metadata": {
        "id": "TTF6LiF7t7WF"
      }
    },
    {
      "cell_type": "markdown",
      "source": [
        "Seja $X$ uma v.a. que conta o número de detectores que indicaram a falha."
      ],
      "metadata": {
        "id": "-99SpwW6HuEM"
      }
    },
    {
      "cell_type": "markdown",
      "source": [
        "Levando-se em consideração novamente a indenpendência condiconal, $X$ segue uma distribuição **binomial** (condicional):"
      ],
      "metadata": {
        "id": "sUP6JRdcOUMr"
      }
    },
    {
      "cell_type": "markdown",
      "source": [
        "\\begin{align} \n",
        "p[X=n|F=1] &= \\binom{N}{n}(1-β)^n β^{N-n} \\\\\n",
        "p[X=n|F=0] &= \\binom{N}{n}α^n(1-α)^{N-n}\n",
        "\\end{align}"
      ],
      "metadata": {
        "id": "etOaQNvKIErU"
      }
    },
    {
      "cell_type": "markdown",
      "source": [
        "Podemos calcular o valor  esperado da quantidade de detectores que alarmam em caso de falha: "
      ],
      "metadata": {
        "id": "MMNDTfH4nw6H"
      }
    },
    {
      "cell_type": "markdown",
      "source": [
        "\\begin{align}\n",
        "  \\mathbb{E}[X|F=1] = N(1-\\beta)\n",
        "\\end{align}"
      ],
      "metadata": {
        "id": "P6-RXITUoPzL"
      }
    },
    {
      "cell_type": "markdown",
      "source": [
        "Arbitrando um valor de $N$ para exemplificar:"
      ],
      "metadata": {
        "id": "EHZpgcr0qjo7"
      }
    },
    {
      "cell_type": "code",
      "source": [
        "N = 100\n",
        "E_ = N*(1-β)\n",
        "print(E_)"
      ],
      "metadata": {
        "colab": {
          "base_uri": "https://localhost:8080/",
          "height": 0
        },
        "id": "Ya7BGARMog85",
        "outputId": "863b55a1-dfa0-4d11-fbf0-87adc4054a1f"
      },
      "execution_count": 559,
      "outputs": [
        {
          "output_type": "stream",
          "name": "stdout",
          "text": [
            "80.0\n"
          ]
        }
      ]
    },
    {
      "cell_type": "markdown",
      "source": [
        "Visualizando as duas distribuições:"
      ],
      "metadata": {
        "id": "X6xlVJt5pcIH"
      }
    },
    {
      "cell_type": "code",
      "source": [
        "pmf1 = lambda n: binom.pmf(k=n, n=N, p=(1-β))\n",
        "pmf0 = lambda n: binom.pmf(k=n, n=N, p=α)\n",
        "x = np.arange(1,N+1,1)\n",
        "plt.figure(figsize=(15,5))\n",
        "plt.plot(x,pmf1(x), label='F=1')\n",
        "plt.plot(x,pmf0(x), label='F=0')\n",
        "plt.xlabel('n')\n",
        "plt.ylabel('p[X=n | F]')\n",
        "plt.legend()\n",
        "plt.grid()\n",
        "plt.show()"
      ],
      "metadata": {
        "colab": {
          "base_uri": "https://localhost:8080/",
          "height": 334
        },
        "id": "YJMWQAkJGJig",
        "outputId": "d6a9a6f3-a2bc-4346-8026-3939414a205a"
      },
      "execution_count": 560,
      "outputs": [
        {
          "output_type": "display_data",
          "data": {
            "text/plain": [
              "<Figure size 1080x360 with 1 Axes>"
            ],
            "image/png": "[encoded data removed]"
          },
          "metadata": {
            "needs_background": "light"
          }
        }
      ]
    },
    {
      "cell_type": "markdown",
      "source": [
        "Uma forma de quantificar a confiança para um determinado valor $n$ é calcular a ***likelihood*** para a observação destes dados, utilizando as funções **pmf** calculadas acima. "
      ],
      "metadata": {
        "id": "cP9wLH72rBZm"
      }
    },
    {
      "cell_type": "markdown",
      "source": [
        "Importante notar que, neste caso específico, como modelamos os dados utilizando diretamente uma distribuição discreta (binomial), observamos que a *likelihood* corresponde a um valor de probabilidade (entre $0$ e $1$). Entretanto, se tivéssemos utilizado uma distribuição contínua ou tivéssemos modelado a função *likelihood* à partir da multiplicação de *N* distribuições de Bernoulli, não teríamos o valor normalizado. "
      ],
      "metadata": {
        "id": "mXHp_8Q0rubB"
      }
    },
    {
      "cell_type": "markdown",
      "source": [
        "Observamos também que a distância entre as distribuições depende da quantidade de dados e também dos parâmetros. Por exemplo:"
      ],
      "metadata": {
        "id": "0zeDcY3xs1wR"
      }
    },
    {
      "cell_type": "code",
      "source": [
        "N = 40\n",
        "α = 0.3\n",
        "β = 0.4\n",
        "X1 = binom(n=N, p=(1-β))\n",
        "X0 = binom(n=N, p=α)\n",
        "pfm0 = lambda k: X0.pmf(k)\n",
        "pfm1 = lambda k: X1.pmf(k)\n",
        "x = np.arange(1,N+1,1)\n",
        "plt.figure(figsize=(15,5))\n",
        "plt.title('Decisão pela likelihood')\n",
        "plt.plot(x,X1.pmf(x), '-o', label='F=1')\n",
        "plt.plot(x,X0.pmf(x), '-o', label='F=0')\n",
        "plt.axvline(x=n0, color='red')\n",
        "plt.xlabel('n')\n",
        "plt.ylabel('p[X=n | F]')\n",
        "plt.legend()\n",
        "plt.grid()\n",
        "plt.show()"
      ],
      "metadata": {
        "colab": {
          "base_uri": "https://localhost:8080/",
          "height": 350
        },
        "id": "HBtRc9mdvG8u",
        "outputId": "5ae562e3-b05f-4710-f853-faf7ca08914d"
      },
      "execution_count": 561,
      "outputs": [
        {
          "output_type": "display_data",
          "data": {
            "text/plain": [
              "<Figure size 1080x360 with 1 Axes>"
            ],
            "image/png": "[encoded data removed]"
          },
          "metadata": {
            "needs_background": "light"
          }
        }
      ]
    },
    {
      "cell_type": "markdown",
      "source": [
        "##### Likelihood ratio test"
      ],
      "metadata": {
        "id": "Mo2MbIjuOFDT"
      }
    },
    {
      "cell_type": "markdown",
      "source": [
        "Para classificação binária utilizando a perda **a perda 0-1**, o teste de decisão pela Likelihood ratio é da forma:"
      ],
      "metadata": {
        "id": "hV8_lfLgOI-5"
      }
    },
    {
      "cell_type": "markdown",
      "source": [
        "\\begin{align}\n",
        "  \\frac{p[X=n \\mid F=1]}{p[X=n \\mid F=0]} > \\eta = \\frac{\\mathbb{P}[F=0]}{\\mathbb{P}[F=1]}\n",
        "\\end{align}"
      ],
      "metadata": {
        "id": "aqXFmxcfORwf"
      }
    },
    {
      "cell_type": "markdown",
      "source": [
        "Podemos então encontrar a fronteira de decisão $n_0$ resolvendo a equação para $n$:"
      ],
      "metadata": {
        "id": "KlnYpyOqSyh-"
      }
    },
    {
      "cell_type": "markdown",
      "source": [
        "\\begin{align}\n",
        "  n_0 = \\frac{\\log(η)+N \\left[ \\log(1-α)-\\log(β)\\right]}{\\log(1-β)-\\log(β)+log(1-α)-log(α)}\n",
        "\\end{align}"
      ],
      "metadata": {
        "id": "3OBCHcL6NVUD"
      }
    },
    {
      "cell_type": "code",
      "source": [
        "η = (1-π)/π\n",
        "n0 = (log(η) + N*(log(1-α)-log(β)))/(log(1-β)-log(β)+log(1-α)-log(α))\n",
        "print(n0)"
      ],
      "metadata": {
        "colab": {
          "base_uri": "https://localhost:8080/",
          "height": 0
        },
        "id": "ihEfMlR0z8ip",
        "outputId": "7f683e02-ccc6-4243-8793-989cd1e2558a"
      },
      "execution_count": 607,
      "outputs": [
        {
          "output_type": "stream",
          "name": "stdout",
          "text": [
            "17.401978758692962\n"
          ]
        }
      ]
    },
    {
      "cell_type": "markdown",
      "source": [
        "Por exemplo, para $n=18$, teríamos maior confiança na hipótese $F=1$ do que na hipótese $F=0$:"
      ],
      "metadata": {
        "id": "Bn-eM0Lqw1k-"
      }
    },
    {
      "cell_type": "code",
      "source": [
        "n=18\n",
        "print('P[X=18|F=0] =', X0.pmf(n))\n",
        "print('P[X=18|F=1] =', X1.pmf(n))"
      ],
      "metadata": {
        "colab": {
          "base_uri": "https://localhost:8080/",
          "height": 0
        },
        "id": "T31fZcWnxQiz",
        "outputId": "aa6645ae-a1d1-4365-f228-716f56dd8ccf"
      },
      "execution_count": 563,
      "outputs": [
        {
          "output_type": "stream",
          "name": "stdout",
          "text": [
            "P[X=18|F=0] = 0.017174216000508034\n",
            "P[X=18|F=1] = 0.020257216589414023\n"
          ]
        }
      ]
    },
    {
      "cell_type": "markdown",
      "source": [
        "##### Matriz de confusão"
      ],
      "metadata": {
        "id": "wMLvRP0SvSO3"
      }
    },
    {
      "cell_type": "code",
      "source": [
        "d = 18 # fronteira de decisão\n",
        "TNR = sum([pmf0(n) for n in range(1,d)])\n",
        "FPR = sum([pmf0(n) for n in range(d,N+1)])\n",
        "FNR = sum([pmf1(n) for n in range(1,d)])\n",
        "TPR = sum([pmf1(n) for n in range(d,N+1)])\n",
        "conf_m = np.array([[TNR, FPR],[FNR, TPR]])\n",
        "\n",
        "fig, ax = plt.subplots(figsize=(5,5))\n",
        "ax.set_title('Matriz de confusão')\n",
        "sns.heatmap(conf_m, annot=True, cmap='Blues', \n",
        "                 xticklabels=[r'$\\hat{F}=0$', r'$\\hat{F}=1$'],\n",
        "                 yticklabels=[r'$F=0$', r'$F=1$'], cbar=False, ax=ax)\n",
        "ax.xaxis.tick_top()\n",
        "ax.xaxis.set_label_position('top')\n",
        "ax.tick_params(length=0)\n",
        "plt.tight_layout()"
      ],
      "metadata": {
        "colab": {
          "base_uri": "https://localhost:8080/",
          "height": 369
        },
        "id": "muaO8sv1obVw",
        "outputId": "006b516a-60ab-4e01-ba55-0f436fdf2833"
      },
      "execution_count": 579,
      "outputs": [
        {
          "output_type": "display_data",
          "data": {
            "text/plain": [
              "<Figure size 360x360 with 1 Axes>"
            ],
            "image/png": "[encoded data removed]"
          },
          "metadata": {
            "needs_background": "light"
          }
        }
      ]
    },
    {
      "cell_type": "markdown",
      "source": [
        "#### Decisão pela Posterior"
      ],
      "metadata": {
        "id": "sn-7McGouCa-"
      }
    },
    {
      "cell_type": "markdown",
      "source": [
        "Uma outra forma de quantificar a confiança para a decisão, agora adotando uma **abordagem bayesiana**, é calcularmos a probabilidade a posteriori: $\\mathbb{P}[F=1 \\mid X=n]$."
      ],
      "metadata": {
        "id": "PdETk57Nyxy3"
      }
    },
    {
      "cell_type": "markdown",
      "source": [
        "\\begin{align}\n",
        "  \\mathbb{P}[F=1 \\mid X=n] &= \\frac{\\mathbb{P}[X=n \\mid F=1]\\mathbb{P}[F=1]}{\\mathbb{P}[X=n]} \\\\\n",
        "  &= \\frac{\\pi\\binom{N}{n}(1-\\beta)^n\\beta^{N-n}}{\\pi\\binom{N}{n}(1-\\beta)^n\\beta^{N-n} + (1-\\pi)\\binom{N}{n}\\alpha^n(1-\\alpha)^{N-n}} \\\\\n",
        "  &= \\frac{\\pi(1-\\beta)^n\\beta^{N-n}}{\\pi(1-\\beta)^n\\beta^{N-n} + (1-\\pi)\\alpha^n(1-\\alpha)^{N-n}}\n",
        "\\end{align}"
      ],
      "metadata": {
        "id": "s7yjz6EsTqHE"
      }
    },
    {
      "cell_type": "code",
      "source": [
        "pos1 = lambda n: π*pmf1(n)/(π*pmf1(n) + (1-π)*pmf0(n))\n",
        "pos0 = lambda n: (1-π)*pmf0(n)/(π*pmf1(n) + (1-π)*pmf0(n))\n",
        "\n",
        "x = np.arange(1,N+1,1)\n",
        "plt.figure(figsize=(15,5))\n",
        "plt.title('Decisão pela posterior')\n",
        "plt.plot(x,pos1(x), '-o', label='F=1')\n",
        "plt.plot(x,pos0(x), '-o', label='F=0')\n",
        "plt.axvline(x=19.6, color='red', label='fronteira')\n",
        "plt.xlabel('n')\n",
        "plt.ylabel('p[F|X=n]')\n",
        "plt.legend()\n",
        "plt.grid()\n",
        "plt.show()"
      ],
      "metadata": {
        "colab": {
          "base_uri": "https://localhost:8080/",
          "height": 350
        },
        "id": "bgeyTbuhCyOf",
        "outputId": "a9e836eb-3c1f-4fc0-e653-9e2a797a3fa6"
      },
      "execution_count": 564,
      "outputs": [
        {
          "output_type": "display_data",
          "data": {
            "text/plain": [
              "<Figure size 1080x360 with 1 Axes>"
            ],
            "image/png": "[encoded data removed]"
          },
          "metadata": {
            "needs_background": "light"
          }
        }
      ]
    },
    {
      "cell_type": "markdown",
      "source": [
        "Calculando a probabilide a posteriori para $n=18$:"
      ],
      "metadata": {
        "id": "dhGZ-NuSjqYS"
      }
    },
    {
      "cell_type": "code",
      "source": [
        "print('P[F=0|X=18] =', pos0(18))\n",
        "print('P[F=1|X=18] =', pos1(18))"
      ],
      "metadata": {
        "colab": {
          "base_uri": "https://localhost:8080/",
          "height": 0
        },
        "id": "c36CllYzjyGG",
        "outputId": "4f0f5018-ba56-4071-ee79-bfcbb2176e9d"
      },
      "execution_count": 565,
      "outputs": [
        {
          "output_type": "stream",
          "name": "stdout",
          "text": [
            "P[F=0|X=18] = 0.8841287116763511\n",
            "P[F=1|X=18] = 0.11587128832364896\n"
          ]
        }
      ]
    },
    {
      "cell_type": "markdown",
      "source": [
        "Interessante notar que, para uma fronteira de decisão em $\\mathbb{P}[F|X=18]=0.5$, **a decisão pela *posterior* difere da decisão pela *likelihood***. \\\\\n",
        "Isso ocorre porque a probabilidade a posteriori leva em considerção também a *prior*, enquanto a *likelihood* leva em consideração apens a informação dos detectores."
      ],
      "metadata": {
        "id": "JYQsuGI0ksLq"
      }
    },
    {
      "cell_type": "markdown",
      "source": [
        "### Item g)"
      ],
      "metadata": {
        "id": "A3pBjr1nujLI"
      }
    },
    {
      "cell_type": "markdown",
      "source": [
        "Queremos encontrar $N$ e $d$ tais que:"
      ],
      "metadata": {
        "id": "H-_7ZmzyH9y3"
      }
    },
    {
      "cell_type": "markdown",
      "source": [
        "\\begin{align}\n",
        " \\mathbb{P}[\\hat{F}=1 \\mid F=1] = p[X \\geq n \\mid F=1] = \\sum_{k=d}^{N} \\binom{N}{k}\\left(1-\\beta \\right)^k\\beta^\\left(N-k\\right) &> \\rho_1 \\\\\n",
        "  \\mathbb{P}[\\hat{F}=1 \\mid F=0] = p[X \\geq n \\mid F=0] = \\sum_{k=d}^{N} \\binom{N}{k}\\alpha^k\\left(1-\\alpha\\right)^\\left(N-k\\right) &< \\rho_2\n",
        "\\end{align}"
      ],
      "metadata": {
        "id": "TdXDkS0GIP_2"
      }
    },
    {
      "cell_type": "markdown",
      "source": [
        "Observamos que trata-se de um problema de solução não trivial."
      ],
      "metadata": {
        "id": "oZ7K9kryTkF0"
      }
    },
    {
      "cell_type": "markdown",
      "source": [
        "## Exercício 2"
      ],
      "metadata": {
        "id": "vV2cu9fS5IZJ"
      }
    },
    {
      "cell_type": "markdown",
      "source": [
        "Dados:"
      ],
      "metadata": {
        "id": "C4zYQnZXN3lr"
      }
    },
    {
      "cell_type": "markdown",
      "source": [
        "$\\mathbb{P}[C_i=1 \\mid F_i=0] = \\alpha_2 = 0.01$ \\\\\n",
        "$\\mathbb{P}[C_i=1 \\mid F_i=1] = (1-\\beta_2) = 0.1$"
      ],
      "metadata": {
        "id": "cTn9OSGKN6Gy"
      }
    },
    {
      "cell_type": "code",
      "source": [
        "α = 0.1\n",
        "β = 0.2\n",
        "α2 = 0.01\n",
        "β2 = 0.9"
      ],
      "metadata": {
        "id": "FV4EIQBNOjba"
      },
      "execution_count": 596,
      "outputs": []
    },
    {
      "cell_type": "markdown",
      "source": [
        "### Item a)"
      ],
      "metadata": {
        "id": "KXc3Ietk5PKE"
      }
    },
    {
      "cell_type": "markdown",
      "source": [
        "Probabilidade a posteriori de falha dado que um cliente abriu um chamado:"
      ],
      "metadata": {
        "id": "1KQQSrUWav3-"
      }
    },
    {
      "cell_type": "markdown",
      "source": [
        "\\begin{align}\n",
        "\\mathbb{P}[F=1 \\mid C_i=1] &= \\frac{\\mathbb{P}[C_i=1 \\mid F=1]\\times\\mathbb{P}[F=1]}{\\mathbb{P}[C_i=1 \\mid F=0]\\times\\mathbb{P}[F=0] + \\mathbb{P}[C_i=1 \\mid F=1]\\times\\mathbb{P}[F=1]} \\\\\n",
        "&= \\frac{π(1-β_2)}{(1-π)α_2 + π(1-β_2)}\n",
        "\\end{align}"
      ],
      "metadata": {
        "id": "lfQ8rajuLfh6"
      }
    },
    {
      "cell_type": "code",
      "source": [
        "R_ = (1-β2)*π/((1-π)*α2 + π*(1-β2))\n",
        "print(R)"
      ],
      "metadata": {
        "colab": {
          "base_uri": "https://localhost:8080/",
          "height": 0
        },
        "id": "GvqywdC2Le-z",
        "outputId": "f225ba07-684e-4bad-b19c-07aecc4f31e7"
      },
      "execution_count": 600,
      "outputs": [
        {
          "output_type": "stream",
          "name": "stdout",
          "text": [
            "0.5263157894736842\n"
          ]
        }
      ]
    },
    {
      "cell_type": "markdown",
      "source": [
        "### item b)"
      ],
      "metadata": {
        "id": "TK0ARXGfmZZI"
      }
    },
    {
      "cell_type": "markdown",
      "source": [
        "Probabilidade um cliente abrir um chamado e um detector indicar falha, dado que o equipamento está em falha:"
      ],
      "metadata": {
        "id": "RrjjhZnLa4Fe"
      }
    },
    {
      "cell_type": "markdown",
      "source": [
        "\\begin{align}\n",
        "  \\mathbb{P}[C_i=1, R_j=1 \\mid F=1] &= \\mathbb {P}[C_j=1 \\mid F=1] \\times \\mathbb{P}[R_i=1 \\mid F=1] \\\\\n",
        "  &= (1-β)\\times(1-β_2)\n",
        "\\end{align}"
      ],
      "metadata": {
        "id": "d46dA3MEPpt_"
      }
    },
    {
      "cell_type": "code",
      "source": [
        "R_ = (1-β)*(1-β2)\n",
        "print(R_)"
      ],
      "metadata": {
        "colab": {
          "base_uri": "https://localhost:8080/",
          "height": 0
        },
        "id": "1BK6TSfKPOdt",
        "outputId": "0fb61035-81eb-4ca2-fcda-2a6d3d989ae5"
      },
      "execution_count": 601,
      "outputs": [
        {
          "output_type": "stream",
          "name": "stdout",
          "text": [
            "0.07999999999999999\n"
          ]
        }
      ]
    },
    {
      "cell_type": "markdown",
      "source": [
        "### item c)"
      ],
      "metadata": {
        "id": "5gNZzGmWmar3"
      }
    },
    {
      "cell_type": "markdown",
      "source": [
        "Probabilidade um cliente abrir um chamado e um detector indicar falha, dado que o equipamento NÃO está em falha:"
      ],
      "metadata": {
        "id": "BnCIcxIJbQle"
      }
    },
    {
      "cell_type": "markdown",
      "source": [
        "\\begin{align}\n",
        "  \\mathbb{P}[C_i=1, R_j=1 \\mid F=0] &= \\mathbb{P}[C_i=1 \\mid F=0] \\times \\mathbb{P}[R_j=1 \\mid F=0] \\\\\n",
        "  &= α\\times α_2\n",
        "\\end{align}"
      ],
      "metadata": {
        "id": "v_-z14Q2RyPh"
      }
    },
    {
      "cell_type": "code",
      "source": [
        "α*α2"
      ],
      "metadata": {
        "colab": {
          "base_uri": "https://localhost:8080/",
          "height": 0
        },
        "id": "BIMWhYC_Vw3O",
        "outputId": "0d28db90-6e4c-4680-97e5-f38dc273d983"
      },
      "execution_count": 603,
      "outputs": [
        {
          "output_type": "execute_result",
          "data": {
            "text/plain": [
              "0.001"
            ]
          },
          "metadata": {},
          "execution_count": 603
        }
      ]
    },
    {
      "cell_type": "markdown",
      "source": [
        "### item d)"
      ],
      "metadata": {
        "id": "SnxZXBX38Jbp"
      }
    },
    {
      "cell_type": "markdown",
      "source": [
        "Probabilidade a posteriori de falha dado que cliente abriu um chamado e o detector indicou falha:  "
      ],
      "metadata": {
        "id": "5F_2jrv_bWyC"
      }
    },
    {
      "cell_type": "markdown",
      "source": [
        "\\begin{align}\n",
        "  \\mathbb{P}[F=1 \\mid C_i=1, R_j=1] &= \\frac{\\mathbb{P}[C_i=1, R_j=1 \\mid F=1]\\times\\mathbb{P}[F_i=1]}{\\mathbb{P}[C_i=1, R_j=1]} \\\\\n",
        "\\end{align}"
      ],
      "metadata": {
        "id": "vYxFQHNdb5PD"
      }
    },
    {
      "cell_type": "markdown",
      "source": [
        "Calculando a Probabilidade Total:"
      ],
      "metadata": {
        "id": "X3J92ol2Gm61"
      }
    },
    {
      "cell_type": "markdown",
      "source": [
        "\\begin{align}\n",
        "  \\mathbb{P}[C_i=1, R_j=1] = \\mathbb{P}[C_i=1, R_j=1 | F=0]\\times{P}[F=0] + \n",
        "    \\mathbb{P}[C_i=1, R_j=1 | F=1]\\times{P}[F=1]\n",
        "\\end{align}"
      ],
      "metadata": {
        "id": "O8x7vVZYGvOs"
      }
    },
    {
      "cell_type": "markdown",
      "source": [
        "Assim, utilizando os resultados anteriormente calculados:"
      ],
      "metadata": {
        "id": "mDWnMCnlHOcV"
      }
    },
    {
      "cell_type": "markdown",
      "source": [
        "\\begin{align}\n",
        "  \\mathbb{P}[F=1 \\mid C_i=1, R_j=1] &= \\frac{\\pi(1-\\beta)(1-\\beta_2)}{\\pi(1-\\beta)(1-\\beta_2) + (1-\\pi)\\alpha\\times\\alpha_2} \\\\\n",
        "\\end{align}"
      ],
      "metadata": {
        "id": "yQjnYS3BL5cS"
      }
    },
    {
      "cell_type": "code",
      "source": [
        "R_ = π*(1-β)*(1-β2)/(π*(1-β)*(1-β2) + (1-π)*α*α2)\n",
        "print(R_)"
      ],
      "metadata": {
        "colab": {
          "base_uri": "https://localhost:8080/",
          "height": 0
        },
        "id": "-eFnyRvXL3-A",
        "outputId": "0c616337-4a68-4e69-99fe-01b3ac91f635"
      },
      "execution_count": 606,
      "outputs": [
        {
          "output_type": "stream",
          "name": "stdout",
          "text": [
            "0.898876404494382\n"
          ]
        }
      ]
    }
  ]
}