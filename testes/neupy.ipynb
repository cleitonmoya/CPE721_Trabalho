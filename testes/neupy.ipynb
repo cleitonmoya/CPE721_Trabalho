{
 "cells": [
  {
   "cell_type": "markdown",
   "metadata": {},
   "source": [
    "# 3. Redes Neurais *Feedforward*"
   ]
  },
  {
   "cell_type": "code",
   "execution_count": 1,
   "metadata": {},
   "outputs": [
    {
     "name": "stderr",
     "output_type": "stream",
     "text": [
      "C:\\ProgramData\\Anaconda3\\envs\\neupy\\lib\\site-packages\\tensorflow\\python\\framework\\dtypes.py:526: FutureWarning: Passing (type, 1) or '1type' as a synonym of type is deprecated; in a future version of numpy, it will be understood as (type, (1,)) / '(1,)type'.\n",
      "  _np_qint8 = np.dtype([(\"qint8\", np.int8, 1)])\n",
      "C:\\ProgramData\\Anaconda3\\envs\\neupy\\lib\\site-packages\\tensorflow\\python\\framework\\dtypes.py:527: FutureWarning: Passing (type, 1) or '1type' as a synonym of type is deprecated; in a future version of numpy, it will be understood as (type, (1,)) / '(1,)type'.\n",
      "  _np_quint8 = np.dtype([(\"quint8\", np.uint8, 1)])\n",
      "C:\\ProgramData\\Anaconda3\\envs\\neupy\\lib\\site-packages\\tensorflow\\python\\framework\\dtypes.py:528: FutureWarning: Passing (type, 1) or '1type' as a synonym of type is deprecated; in a future version of numpy, it will be understood as (type, (1,)) / '(1,)type'.\n",
      "  _np_qint16 = np.dtype([(\"qint16\", np.int16, 1)])\n",
      "C:\\ProgramData\\Anaconda3\\envs\\neupy\\lib\\site-packages\\tensorflow\\python\\framework\\dtypes.py:529: FutureWarning: Passing (type, 1) or '1type' as a synonym of type is deprecated; in a future version of numpy, it will be understood as (type, (1,)) / '(1,)type'.\n",
      "  _np_quint16 = np.dtype([(\"quint16\", np.uint16, 1)])\n",
      "C:\\ProgramData\\Anaconda3\\envs\\neupy\\lib\\site-packages\\tensorflow\\python\\framework\\dtypes.py:530: FutureWarning: Passing (type, 1) or '1type' as a synonym of type is deprecated; in a future version of numpy, it will be understood as (type, (1,)) / '(1,)type'.\n",
      "  _np_qint32 = np.dtype([(\"qint32\", np.int32, 1)])\n",
      "C:\\ProgramData\\Anaconda3\\envs\\neupy\\lib\\site-packages\\tensorflow\\python\\framework\\dtypes.py:535: FutureWarning: Passing (type, 1) or '1type' as a synonym of type is deprecated; in a future version of numpy, it will be understood as (type, (1,)) / '(1,)type'.\n",
      "  np_resource = np.dtype([(\"resource\", np.ubyte, 1)])\n"
     ]
    }
   ],
   "source": [
    "import numpy as np\n",
    "import pandas as pd\n",
    "import matplotlib.pyplot as plt\n",
    "from sklearn.model_selection import train_test_split\n",
    "from sklearn.metrics import accuracy_score, confusion_matrix \n",
    "from neupy import algorithms, layers\n",
    "from neupy.init import Constant"
   ]
  },
  {
   "cell_type": "markdown",
   "metadata": {},
   "source": [
    "## 3.1 Dataset"
   ]
  },
  {
   "cell_type": "code",
   "execution_count": 2,
   "metadata": {},
   "outputs": [],
   "source": [
    "X = np.loadtxt('datasets/X.txt',delimiter=',')\n",
    "y = np.loadtxt('datasets/Y_cla.txt')\n",
    "y = y.reshape(len(y),1)"
   ]
  },
  {
   "cell_type": "code",
   "execution_count": 3,
   "metadata": {},
   "outputs": [
    {
     "name": "stdout",
     "output_type": "stream",
     "text": [
      "(649, 34)\n",
      "(649, 1)\n"
     ]
    }
   ],
   "source": [
    "print(X.shape)\n",
    "print(y.shape)"
   ]
  },
  {
   "cell_type": "markdown",
   "metadata": {},
   "source": [
    "Divisão do dataset nos conjunto de treinamento (60%), validação(20%) e teste(20%):"
   ]
  },
  {
   "cell_type": "code",
   "execution_count": 4,
   "metadata": {},
   "outputs": [
    {
     "name": "stdout",
     "output_type": "stream",
     "text": [
      "(389, 34)\n",
      "(389, 1)\n",
      "(130, 34)\n",
      "(130, 1)\n",
      "(130, 34)\n",
      "(130, 1)\n"
     ]
    }
   ],
   "source": [
    "X_tr, X_val_te, y_tr, y_val_te = train_test_split(X, y, test_size = 0.4, shuffle=False)\n",
    "X_val, X_te, y_val, y_te = train_test_split(X_val_te, y_val_te, test_size = 0.5, shuffle=False)\n",
    "print(X_tr.shape)\n",
    "print(y_tr.shape)\n",
    "print(X_val.shape)\n",
    "print(y_val.shape)\n",
    "print(X_te.shape)\n",
    "print(y_te.shape)"
   ]
  },
  {
   "cell_type": "markdown",
   "metadata": {},
   "source": [
    "## 3.2 Definição das Arquiteturas"
   ]
  },
  {
   "cell_type": "markdown",
   "metadata": {},
   "source": [
    "Inicialmente, iremos avaliar arquiteturas com apenas uma camada oculta"
   ]
  },
  {
   "cell_type": "code",
   "execution_count": 14,
   "metadata": {},
   "outputs": [],
   "source": [
    "_, tamI = X_tr.shape \n",
    "H = [5, 10, 50, 100]\n",
    "\n",
    "NN = []\n",
    "\n",
    "for h in H:\n",
    "    nn = layers.join(\n",
    "        layers.Input(tamI),\n",
    "        layers.Tanh(h),\n",
    "        layers.Tanh(1),\n",
    "    )\n",
    "    NN.append(nn)"
   ]
  },
  {
   "cell_type": "code",
   "execution_count": 15,
   "metadata": {},
   "outputs": [
    {
     "data": {
      "text/plain": [
       "{'forward_graph': OrderedDict([(Input(34, name='input-6'),\n",
       "               [Tanh(10, weight=HeNormal(gain=1.0), bias=Constant(0), name='tanh-11')]),\n",
       "              (Tanh(10, weight=HeNormal(gain=1.0), bias=Constant(0), name='tanh-11'),\n",
       "               [Tanh(1, weight=HeNormal(gain=1.0), bias=Constant(0), name='tanh-12')]),\n",
       "              (Tanh(1, weight=HeNormal(gain=1.0), bias=Constant(0), name='tanh-12'),\n",
       "               [])])}"
      ]
     },
     "execution_count": 15,
     "metadata": {},
     "output_type": "execute_result"
    }
   ],
   "source": [
    "NN[1].get_params()"
   ]
  },
  {
   "cell_type": "markdown",
   "metadata": {},
   "source": [
    "### Otimizadores"
   ]
  },
  {
   "cell_type": "code",
   "execution_count": 16,
   "metadata": {},
   "outputs": [
    {
     "name": "stdout",
     "output_type": "stream",
     "text": [
      "\n",
      "Main information\n",
      "\n",
      "[ALGORITHM] GradientDescent\n",
      "\n",
      "[OPTION] batch_size = None\n",
      "[OPTION] loss = mse\n",
      "[OPTION] regularizer = None\n",
      "[OPTION] show_epoch = 10\n",
      "[OPTION] shuffle_data = False\n",
      "[OPTION] signals = None\n",
      "[OPTION] step = 0.1\n",
      "[OPTION] target = Tensor(\"placeholder/target/tanh-12:0\", shape=(?, 1), dtype=float32)\n",
      "[OPTION] verbose = True\n",
      "\n",
      "[TENSORFLOW] Initializing Tensorflow variables and functions.\n",
      "[TENSORFLOW] Initialization finished successfully. It took 0.16 seconds\n"
     ]
    }
   ],
   "source": [
    "opt1 = algorithms.GradientDescent(NN[1], step=0.1, loss='mse', shuffle_data=False, show_epoch=10, verbose=True, batch_size=None)"
   ]
  },
  {
   "cell_type": "code",
   "execution_count": 17,
   "metadata": {},
   "outputs": [],
   "source": [
    "#opt1 = algorithms.Momentum(NN[2], loss='mse', momentum=0.99, step=0.01, shuffle_data=False, verbose=True, batch_size=None)\n",
    "#opt1 = algorithms.LevenbergMarquardt(NN[2], loss='mse', shuffle_data=False, verbose=True)\n",
    "#opt1 = algorithms.GradientDescent(NN[2], step=0.1, loss='mse', shuffle_data=False, show_epoch=5, verbose=False, batch_size=None)"
   ]
  },
  {
   "cell_type": "code",
   "execution_count": 18,
   "metadata": {},
   "outputs": [
    {
     "name": "stdout",
     "output_type": "stream",
     "text": [
      "#1 : [64 ms] train: 2.699693, valid: 1.174610\n",
      "#10 : [997 μs] train: 0.638849, valid: 1.033638\n",
      "#20 : [997 μs] train: 0.598533, valid: 0.998590\n",
      "#30 : [2 ms] train: 0.559566, valid: 0.974901\n",
      "#40 : [998 μs] train: 0.526392, valid: 0.948356\n",
      "#50 : [2 ms] train: 0.496914, valid: 0.919655\n",
      "#60 : [3 ms] train: 0.474188, valid: 0.892741\n",
      "#70 : [2 ms] train: 0.462128, valid: 0.939659\n",
      "#80 : [996 μs] train: 0.482687, valid: 1.069601\n",
      "#90 : [997 μs] train: 0.463659, valid: 0.991798\n",
      "#100 : [998 μs] train: 0.454548, valid: 0.965293\n"
     ]
    },
    {
     "name": "stderr",
     "output_type": "stream",
     "text": [
      "                                                                               \r"
     ]
    }
   ],
   "source": [
    "opt1.train(X_tr, y_tr, X_val, y_val, epochs=100)"
   ]
  },
  {
   "cell_type": "code",
   "execution_count": 19,
   "metadata": {},
   "outputs": [
    {
     "data": {
      "image/png": "[encoded data removed]",
      "text/plain": [
       "<Figure size 864x576 with 1 Axes>"
      ]
     },
     "metadata": {
      "needs_background": "light"
     },
     "output_type": "display_data"
    }
   ],
   "source": [
    "opt1.plot_errors()"
   ]
  },
  {
   "cell_type": "code",
   "execution_count": 20,
   "metadata": {},
   "outputs": [
    {
     "name": "stderr",
     "output_type": "stream",
     "text": [
      "                                                                               \r"
     ]
    }
   ],
   "source": [
    "g = np.sign(opt1.predict(X_val))"
   ]
  },
  {
   "cell_type": "code",
   "execution_count": 21,
   "metadata": {},
   "outputs": [
    {
     "name": "stdout",
     "output_type": "stream",
     "text": [
      "Acurácia: 0.6846153846153846\n",
      "Matriz de confusão:\n",
      "[[ 6 40]\n",
      " [ 1 83]]\n"
     ]
    }
   ],
   "source": [
    "from sklearn.metrics import accuracy_score, confusion_matrix \n",
    "Acc = accuracy_score(y_val,g)\n",
    "Cm = confusion_matrix(y_val,g)\n",
    "print(\"Acurácia:\", Acc)\n",
    "print(\"Matriz de confusão:\")\n",
    "print(Cm)"
   ]
  },
  {
   "cell_type": "code",
   "execution_count": 22,
   "metadata": {},
   "outputs": [
    {
     "data": {
      "text/plain": [
       "array([-1.        , -1.        ,  1.        ,  1.        ,  1.        ,\n",
       "       -1.        ,  1.        ,  1.        , -1.        ,  3.        ,\n",
       "        3.        ,  1.        ,  2.        ,  0.        ,  5.        ,\n",
       "        3.        ,  4.        ,  1.        ,  1.        ,  4.        ,\n",
       "        1.03169516,  0.93602618, -1.        , -1.        , -1.        ,\n",
       "        1.        , -1.        , -1.        ,  1.        , -1.        ,\n",
       "       -1.        , -1.        ,  1.        , -1.        ])"
      ]
     },
     "execution_count": 22,
     "metadata": {},
     "output_type": "execute_result"
    }
   ],
   "source": [
    "X_tr[-1]"
   ]
  },
  {
   "cell_type": "code",
   "execution_count": null,
   "metadata": {},
   "outputs": [],
   "source": []
  }
 ],
 "metadata": {
  "kernelspec": {
   "display_name": "Python 3",
   "language": "python",
   "name": "python3"
  },
  "language_info": {
   "codemirror_mode": {
    "name": "ipython",
    "version": 3
   },
   "file_extension": ".py",
   "mimetype": "text/x-python",
   "name": "python",
   "nbconvert_exporter": "python",
   "pygments_lexer": "ipython3",
   "version": "3.6.12"
  }
 },
 "nbformat": 4,
 "nbformat_minor": 4
}
